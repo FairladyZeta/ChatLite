{
 "cells": [
  {
   "cell_type": "markdown",
   "metadata": {},
   "source": [
    "Useful links:\n",
    " - https://stackoverflow.com/questions/19846332/python-threading-inside-a-class/19846691\n",
    " - https://stackoverflow.com/questions/39145357/python-error-socket-error-errno-11-resource-temporarily-unavailable-when-s "
   ]
  },
  {
   "cell_type": "code",
   "execution_count": 1,
   "metadata": {},
   "outputs": [],
   "source": [
    "# Research while working on 1020 project\n",
    "import socket\n",
    "import threading\n",
    "import time\n",
    "import select\n",
    "import errno\n",
    "import pickle"
   ]
  },
  {
   "cell_type": "code",
   "execution_count": 2,
   "metadata": {},
   "outputs": [],
   "source": [
    "# Constants\n",
    "HEADERSIZE = 10"
   ]
  },
  {
   "cell_type": "code",
   "execution_count": 3,
   "metadata": {},
   "outputs": [],
   "source": [
    "# Code before refactor one\n",
    "\n",
    "\n",
    "class server:\n",
    "    def __init__(self, ip, port, start_handler=True):\n",
    "        self.ip = ip\n",
    "        self.port = port\n",
    "        self.socket = socket.socket(socket.AF_INET, socket.SOCK_STREAM)\n",
    "        self.socket.setsockopt(socket.SOL_SOCKET, socket.SO_REUSEADDR, 1)\n",
    "        self.socket.bind((self.ip, self.port))\n",
    "        self.socket.listen(5)\n",
    "        \n",
    "        self.accepting_thread = None\n",
    "        self.client_sockets = [self.socket]\n",
    "        self.client_threads = []\n",
    "        \n",
    "        self.stop_threads = False\n",
    "        if start_handler:\n",
    "            self.handle_thread = threading.Thread(target=self._handler, daemon=True)\n",
    "            self.handle_thread.start()\n",
    "    \n",
    "    def broadcast(self, metadata, content):\n",
    "        #packet = wrap_header(message)\n",
    "        packet = create_packet(metadata, content)\n",
    "        for socket in self.client_sockets[1:]:\n",
    "            socket.send(packet)\n",
    "            #socket.send(packet)\n",
    "    \n",
    "    def _handler(self):\n",
    "        while True:\n",
    "            to_read, to_write, errors = select.select(self.client_sockets, [], [])\n",
    "            for s in to_read:\n",
    "                if s == self.socket:\n",
    "                    sockfd, addr = self.socket.accept()\n",
    "                    self.client_sockets.append(sockfd)\n",
    "                    print(f\"::::: New connection on {addr} :::::\")\n",
    "                else:\n",
    "                    try:\n",
    "                        incoming_size = int(s.recv(HEADERSIZE))\n",
    "                        data = s.recv(incoming_size)\n",
    "                        if len(data) == incoming_size:\n",
    "                            print(data)\n",
    "                    except Exception as e:\n",
    "                        print(f\"An s was failed to read {e}\")\n",
    "    \"\"\"\n",
    "    def _accept_clients(self):\n",
    "        while not self.stop_threads:\n",
    "            sockfd, addr = self.socket.accept()\n",
    "            self.client_sockets.append(sockfd)\n",
    "            #self.client_threads.append(threading.Thread(target=self._client_thread, args=(sockfd,), daemon=True))\n",
    "            #self.client_threads[-1].start()\n",
    "            print(self.client_sockets)\n",
    "        \n",
    "    def accept_clients(self):\n",
    "        self.accepting_thread = threading.Thread(target=self._accept_clients, daemon=True)\n",
    "        self.accepting_thread.start()\n",
    "        \n",
    "    def _client_thread(self, socketfd):\n",
    "        while not self.stop_threads:\n",
    "            data = bytes(\"\", 'utf-8')\n",
    "            try:\n",
    "                print(socketfd.recv(HEADERSIZE))\n",
    "                incoming_size = int(socketfd.recv(HEADERSIZE))\n",
    "                print(incoming_size)\n",
    "                data = socketfd.recv(incoming_size)\n",
    "                #while len(data) < incoming_size:\n",
    "                #    data += socketfd.recv(16)\n",
    "                #if len(data) == incoming_size:\n",
    "                #    print(str(data))\n",
    "            except Exception as e:\n",
    "                print(\"GOLDEN GOOSE\")\n",
    "                print(e)\n",
    "                #socketfd.close()\n",
    "                continue\n",
    "    \n",
    "    def _message_handler(self):\n",
    "        while True:\n",
    "            to_read, to_write, errors = select.select(self.client_sockets, [], [])\n",
    "            print(\"To read is ready: {}\".format(to_read))\n",
    "            for s in to_read:\n",
    "                if s == self.socket:\n",
    "                    print(\"Well something's gone wrong\")\n",
    "                else:\n",
    "                    try:\n",
    "                        print(s.recv(1024))\n",
    "                    except Exception as e:\n",
    "                        print(\"message handler hit bump\")\n",
    "                        print(e)\n",
    "                        continue\n",
    "    def handle_messages(self):\n",
    "        self.message_handler_thread = threading.Thread(target=self._message_handler, daemon=True)\n",
    "    \"\"\"\n",
    "    def stop(self):\n",
    "        self.stop_threads = True\n",
    "\n",
    "class client:\n",
    "    def __init__(self, username, ip, port):\n",
    "        self.username = username\n",
    "        self.server_address = (ip, port)\n",
    "        self.ip = ip\n",
    "        self.port = port\n",
    "        self.socket = socket.socket(socket.AF_INET, socket.SOCK_STREAM)\n",
    "        self.socket.connect(self.server_address)\n",
    "        self.socket.setblocking(False)\n",
    "        self.metadata = {'username':self.username}\n",
    "        \n",
    "        self.handler_thread = threading.Thread(target=self._handler, daemon=True)\n",
    "        self.handler_thread.start()\n",
    "    \n",
    "    def send_message(self, content):\n",
    "        \"\"\"Method to send a packet. Takes string as argument\"\"\"\n",
    "        print(\"This ran. Send message.\")\n",
    "        packet = create_packet(self.metadata, content)\n",
    "        self.socket.send(packet)\n",
    "        #self.socket.send(bytes(message, 'utf-8'))\n",
    "    \n",
    "    def _handler(self):\n",
    "        print(\"Messages thread was started\")\n",
    "        while True:\n",
    "            try:\n",
    "                while True:\n",
    "                    incoming_size = int(self.socket.recv(HEADERSIZE))\n",
    "                    data = self.socket.recv(incoming_size)\n",
    "                    if len(data) == incoming_size:\n",
    "                        print(data)\n",
    "            except IOError as e:\n",
    "                if e.errno != errno.EAGAIN and e.errno != eerno.EWOULDBLOCK:\n",
    "                    print(\"Reading error: {}\".format(str(e)))\n",
    "                continue\n",
    "            except Exception as e:\n",
    "                print(\"reading error: {}\".format(str(e)))\n",
    "                continue\n"
   ]
  },
  {
   "cell_type": "code",
   "execution_count": 4,
   "metadata": {},
   "outputs": [],
   "source": [
    "# misc functions\n",
    "#def create_packet(obj):\n",
    "##    compressed_text = pickle.dumps(obj)\n",
    "    #compressed_text = bytes(text, 'utf-8')\n",
    "#    length = len(compressed_text)\n",
    "#    return bytes(f\"{length:<{HEADERSIZE}}\", 'utf-8') + compressed_text\n",
    "\n",
    "def wrap_header(text):\n",
    "    data = bytes(text, 'utf-8')\n",
    "    length = len(data)\n",
    "    return bytes(f\"{length:<{HEADERSIZE}}\", 'utf-8') + data\n",
    "\n",
    "def create_packet(metadata, content):\n",
    "    data = pickle.dumps((metadata, content))\n",
    "    length = len(data)\n",
    "    return bytes(f\"{length:<10}\", 'utf-8') + data"
   ]
  },
  {
   "cell_type": "code",
   "execution_count": 5,
   "metadata": {},
   "outputs": [],
   "source": [
    "# Testing\n",
    "test_server = server('127.0.0.1', 1242)\n",
    "#test_server.accept_clients()\n",
    "#test_server.handle_messages()\n",
    "time.sleep(1)\n",
    "\n",
    "\n",
    "\n"
   ]
  },
  {
   "cell_type": "code",
   "execution_count": 6,
   "metadata": {},
   "outputs": [
    {
     "name": "stdout",
     "output_type": "stream",
     "text": [
      "Messages thread was started\n",
      "::::: New connection on ('127.0.0.1', 41482) :::::\n"
     ]
    }
   ],
   "source": [
    "test_client = client(\"user\", '127.0.0.1', 1242)"
   ]
  },
  {
   "cell_type": "code",
   "execution_count": 7,
   "metadata": {},
   "outputs": [
    {
     "name": "stdout",
     "output_type": "stream",
     "text": [
      "This ran. Send message.\n",
      "b'\\x80\\x04\\x95\\x1f\\x00\\x00\\x00\\x00\\x00\\x00\\x00}\\x94\\x8c\\x08username\\x94\\x8c\\x04user\\x94s\\x8c\\x04test\\x94\\x86\\x94.'\n"
     ]
    }
   ],
   "source": [
    "test_client.send_message(\"test\")"
   ]
  },
  {
   "cell_type": "code",
   "execution_count": 8,
   "metadata": {},
   "outputs": [],
   "source": [
    "#test_server.client_sockets[1].send(bytes(\"Hello\", 'utf-8'))"
   ]
  },
  {
   "cell_type": "code",
   "execution_count": 9,
   "metadata": {},
   "outputs": [],
   "source": [
    "#test_client.socket.recv(5)"
   ]
  },
  {
   "cell_type": "code",
   "execution_count": 10,
   "metadata": {},
   "outputs": [
    {
     "name": "stdout",
     "output_type": "stream",
     "text": [
      "b'\\x80\\x04\\x95\\x1f\\x00\\x00\\x00\\x00\\x00\\x00\\x00}\\x94\\x8c\\x08username\\x94\\x8c\\x03who\\x94s\\x8c\\x05Hello\\x94\\x86\\x94.'\n"
     ]
    }
   ],
   "source": [
    "test_server.broadcast({'username':'who'}, \"Hello\")"
   ]
  },
  {
   "cell_type": "code",
   "execution_count": 11,
   "metadata": {},
   "outputs": [
    {
     "data": {
      "text/plain": [
       "({'username': 'who'}, 'Hello')"
      ]
     },
     "execution_count": 11,
     "metadata": {},
     "output_type": "execute_result"
    }
   ],
   "source": [
    "pickle.loads(b'\\x80\\x04\\x95\\x1f\\x00\\x00\\x00\\x00\\x00\\x00\\x00}\\x94\\x8c\\x08username\\x94\\x8c\\x03who\\x94s\\x8c\\x05Hello\\x94\\x86\\x94.')"
   ]
  },
  {
   "cell_type": "code",
   "execution_count": null,
   "metadata": {},
   "outputs": [],
   "source": []
  }
 ],
 "metadata": {
  "kernelspec": {
   "display_name": "Python 3",
   "language": "python",
   "name": "python3"
  },
  "language_info": {
   "codemirror_mode": {
    "name": "ipython",
    "version": 3
   },
   "file_extension": ".py",
   "mimetype": "text/x-python",
   "name": "python",
   "nbconvert_exporter": "python",
   "pygments_lexer": "ipython3",
   "version": "3.8.2"
  }
 },
 "nbformat": 4,
 "nbformat_minor": 2
}
