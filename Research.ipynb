{
 "cells": [
  {
   "cell_type": "markdown",
   "metadata": {},
   "source": [
    "Useful links:\n",
    " - https://stackoverflow.com/questions/19846332/python-threading-inside-a-class/19846691\n",
    " - https://stackoverflow.com/questions/39145357/python-error-socket-error-errno-11-resource-temporarily-unavailable-when-s "
   ]
  },
  {
   "cell_type": "code",
   "execution_count": 1,
   "metadata": {},
   "outputs": [],
   "source": [
    "# Research while working on 1020 project\n",
    "import socket\n",
    "import threading\n",
    "import time"
   ]
  },
  {
   "cell_type": "code",
   "execution_count": 2,
   "metadata": {},
   "outputs": [],
   "source": [
    "# Constants\n",
    "HEADERSIZE = 10"
   ]
  },
  {
   "cell_type": "code",
   "execution_count": 3,
   "metadata": {},
   "outputs": [],
   "source": [
    "class server:\n",
    "    def __init__(self, ip, port):\n",
    "        self.ip = ip\n",
    "        self.port = port\n",
    "        self.socket = socket.socket(socket.AF_INET, socket.SOCK_STREAM)\n",
    "        self.socket.setsockopt(socket.SOL_SOCKET, socket.SO_REUSEADDR, 1)\n",
    "        self.socket.bind((self.ip, self.port))\n",
    "        self.socket.listen(5)\n",
    "        \n",
    "        self.accepting_thread = None\n",
    "        self.client_sockets = []\n",
    "        self.client_threads = []\n",
    "        \n",
    "        self.stop_threads = False\n",
    "    \n",
    "    def broadcast(self, message):\n",
    "        packet = wrap_header(message)\n",
    "        for socket in self.client_sockets:\n",
    "            print(packet)\n",
    "            socket.send(packet)\n",
    "            #socket.send(packet)\n",
    "    \n",
    "    def _accept_clients(self):\n",
    "        while not self.stop_threads:\n",
    "            sockfd, addr = self.socket.accept()\n",
    "            self.client_sockets.append(sockfd)\n",
    "            #self.client_threads.append(threading.Thread(target=self._client_thread, args=(sockfd,), daemon=True))\n",
    "            #self.client_threads[-1].start()\n",
    "            print(self.client_sockets)\n",
    "        \n",
    "    def accept_clients(self):\n",
    "        self.accepting_thread = threading.Thread(target=self._accept_clients, daemon=True)\n",
    "        self.accepting_thread.start()\n",
    "        \n",
    "    def _client_thread(self, socketfd):\n",
    "        while not self.stop_threads:\n",
    "            data = bytes(\"\", 'utf-8')\n",
    "            try:\n",
    "                print(socketfd.recv(HEADERSIZE))\n",
    "                incoming_size = int(socketfd.recv(HEADERSIZE))\n",
    "                print(incoming_size)\n",
    "                data = socketfd.recv(incoming_size)\n",
    "                #while len(data) < incoming_size:\n",
    "                #    data += socketfd.recv(16)\n",
    "                #if len(data) == incoming_size:\n",
    "                #    print(str(data))\n",
    "            except Exception as e:\n",
    "                print(\"GOLDEN GOOSE\")\n",
    "                print(e)\n",
    "                #socketfd.close()\n",
    "                continue\n",
    "    \n",
    "    def _message_handler(self):\n",
    "        while True:\n",
    "            to_read, to_write, errors = select.select(self.client_sockets, [], [])\n",
    "            print(\"To read is ready: {}\".format(to_read))\n",
    "            for s in to_read:\n",
    "                if s == self.socket:\n",
    "                    print(\"Well something's gone wrong\")\n",
    "                else:\n",
    "                    try:\n",
    "                        print(s.recv(1024))\n",
    "                    except Exception as e:\n",
    "                        print(\"message handler hit bump\")\n",
    "                        print(e)\n",
    "                        continue\n",
    "    def handle_messages(self):\n",
    "        self.message_handler_thread = threading.Thread(target=self._message_handler, daemon=True)\n",
    "    \n",
    "    def stop(self):\n",
    "        self.stop_threads = True\n",
    "\n",
    "\n",
    "class client:\n",
    "    def __init__(self, username, ip, port):\n",
    "        self.username = username\n",
    "        self.server_address = (ip, port)\n",
    "        self.ip = ip\n",
    "        self.port = port\n",
    "        self.socket = socket.socket(socket.AF_INET, socket.SOCK_STREAM)\n",
    "        self.socket.connect(self.server_address)\n",
    "        self.socket.setblocking(False)\n",
    "        \n",
    "        self.messages_thread = threading.Thread(target=self._messages_thread, daemon=True)\n",
    "        self.messages_thread.start()\n",
    "    \n",
    "    def send_message(self, message):\n",
    "        \"\"\"Method to send a packet. Takes string as argument\"\"\"\n",
    "        print(\"This ran. Send message.\")\n",
    "        #self.socket.send(create_packet(message))\n",
    "        self.socket.send(message)\n",
    "    \n",
    "    def _messages_thread(self):\n",
    "        print(\"Messages thread was started\")\n",
    "        while True:\n",
    "            try:\n",
    "                incoming_size = int(self.socket.recv(HEADERSIZE))\n",
    "                #data = socketfd.recv(incoming_size)\n",
    "                while len(data) < incoming_size:\n",
    "                    data += self.socket.recv(16)\n",
    "                if len(data) == incoming_size:\n",
    "                    print(str(data))\n",
    "                    return data\n",
    "            except Exception as e:\n",
    "                self.socket.close()\n",
    "                print(e)\n",
    "                break"
   ]
  },
  {
   "cell_type": "code",
   "execution_count": 4,
   "metadata": {},
   "outputs": [],
   "source": [
    "# misc functions\n",
    "#def create_packet(obj):\n",
    "##    compressed_text = pickle.dumps(obj)\n",
    "    #compressed_text = bytes(text, 'utf-8')\n",
    "#    length = len(compressed_text)\n",
    "#    return bytes(f\"{length:<{HEADERSIZE}}\", 'utf-8') + compressed_text\n",
    "\n",
    "def wrap_header(text):\n",
    "    data = bytes(text, 'utf-8')\n",
    "    length = len(data)\n",
    "    return bytes(f\"{length:<{HEADERSIZE}}\", 'utf-8') + data\n",
    "\n",
    "def receive_packet(socketfd):\n",
    "    data = bytes(\"\", 'utf-8')\n",
    "    packet_length = int(socketfd.recv(HEADERSIZE))\n",
    "    print(\"WE GOT HERE\")\n",
    "    data = socketfd.recv(packet_length)\n",
    "    #while len(data) < packet_length:\n",
    "    #    data += socketfd.recv(packet_length)\n",
    "    if len(data) == packet_length:\n",
    "        return pickle.loads(data)\n",
    "    else:\n",
    "        return None"
   ]
  },
  {
   "cell_type": "code",
   "execution_count": 5,
   "metadata": {},
   "outputs": [],
   "source": [
    "# Testing\n",
    "test_server = server('127.0.0.1', 1242)\n",
    "test_server.accept_clients()\n",
    "test_server.handle_messages()\n",
    "time.sleep(1)\n",
    "\n",
    "\n",
    "\n"
   ]
  },
  {
   "cell_type": "code",
   "execution_count": 6,
   "metadata": {},
   "outputs": [
    {
     "name": "stdout",
     "output_type": "stream",
     "text": [
      "[<socket.socket fd=42, family=AddressFamily.AF_INET, type=SocketKind.SOCK_STREAM, proto=0, laddr=('127.0.0.1', 1242), raddr=('127.0.0.1', 48962)>]\n",
      "Messages thread was started\n",
      "[Errno 11] Resource temporarily unavailable\n"
     ]
    }
   ],
   "source": [
    "test_client = client(\"user\", '127.0.0.1', 1242)"
   ]
  },
  {
   "cell_type": "code",
   "execution_count": 7,
   "metadata": {},
   "outputs": [
    {
     "name": "stdout",
     "output_type": "stream",
     "text": [
      "b'5         Hello'\n"
     ]
    }
   ],
   "source": [
    "test_server.broadcast('Hello')"
   ]
  },
  {
   "cell_type": "code",
   "execution_count": 8,
   "metadata": {},
   "outputs": [
    {
     "name": "stdout",
     "output_type": "stream",
     "text": [
      "b'5         Hello'\n"
     ]
    },
    {
     "ename": "BrokenPipeError",
     "evalue": "[Errno 32] Broken pipe",
     "output_type": "error",
     "traceback": [
      "\u001b[0;31m---------------------------------------------------------------------------\u001b[0m",
      "\u001b[0;31mBrokenPipeError\u001b[0m                           Traceback (most recent call last)",
      "\u001b[0;32m<ipython-input-8-99bdfe9e4f08>\u001b[0m in \u001b[0;36m<module>\u001b[0;34m\u001b[0m\n\u001b[0;32m----> 1\u001b[0;31m \u001b[0mtest_server\u001b[0m\u001b[0;34m.\u001b[0m\u001b[0mbroadcast\u001b[0m\u001b[0;34m(\u001b[0m\u001b[0;34m\"Hello\"\u001b[0m\u001b[0;34m)\u001b[0m\u001b[0;34m\u001b[0m\u001b[0;34m\u001b[0m\u001b[0m\n\u001b[0m",
      "\u001b[0;32m<ipython-input-3-f4121331ee4e>\u001b[0m in \u001b[0;36mbroadcast\u001b[0;34m(self, message)\u001b[0m\n\u001b[1;32m     18\u001b[0m         \u001b[0;32mfor\u001b[0m \u001b[0msocket\u001b[0m \u001b[0;32min\u001b[0m \u001b[0mself\u001b[0m\u001b[0;34m.\u001b[0m\u001b[0mclient_sockets\u001b[0m\u001b[0;34m:\u001b[0m\u001b[0;34m\u001b[0m\u001b[0;34m\u001b[0m\u001b[0m\n\u001b[1;32m     19\u001b[0m             \u001b[0mprint\u001b[0m\u001b[0;34m(\u001b[0m\u001b[0mpacket\u001b[0m\u001b[0;34m)\u001b[0m\u001b[0;34m\u001b[0m\u001b[0;34m\u001b[0m\u001b[0m\n\u001b[0;32m---> 20\u001b[0;31m             \u001b[0msocket\u001b[0m\u001b[0;34m.\u001b[0m\u001b[0msend\u001b[0m\u001b[0;34m(\u001b[0m\u001b[0mpacket\u001b[0m\u001b[0;34m)\u001b[0m\u001b[0;34m\u001b[0m\u001b[0;34m\u001b[0m\u001b[0m\n\u001b[0m\u001b[1;32m     21\u001b[0m             \u001b[0;31m#socket.send(packet)\u001b[0m\u001b[0;34m\u001b[0m\u001b[0;34m\u001b[0m\u001b[0;34m\u001b[0m\u001b[0m\n\u001b[1;32m     22\u001b[0m \u001b[0;34m\u001b[0m\u001b[0m\n",
      "\u001b[0;31mBrokenPipeError\u001b[0m: [Errno 32] Broken pipe"
     ]
    },
    {
     "name": "stdout",
     "output_type": "stream",
     "text": [
      "[<socket.socket fd=42, family=AddressFamily.AF_INET, type=SocketKind.SOCK_STREAM, proto=0, laddr=('127.0.0.1', 1242)>, <socket.socket fd=46, family=AddressFamily.AF_INET, type=SocketKind.SOCK_STREAM, proto=0, laddr=('127.0.0.1', 1242), raddr=('127.0.0.1', 48966)>]\n"
     ]
    }
   ],
   "source": [
    "test_server.broadcast(\"Hello\")"
   ]
  },
  {
   "cell_type": "code",
   "execution_count": null,
   "metadata": {},
   "outputs": [],
   "source": []
  }
 ],
 "metadata": {
  "kernelspec": {
   "display_name": "Python 3",
   "language": "python",
   "name": "python3"
  },
  "language_info": {
   "codemirror_mode": {
    "name": "ipython",
    "version": 3
   },
   "file_extension": ".py",
   "mimetype": "text/x-python",
   "name": "python",
   "nbconvert_exporter": "python",
   "pygments_lexer": "ipython3",
   "version": "3.8.2"
  }
 },
 "nbformat": 4,
 "nbformat_minor": 2
}
